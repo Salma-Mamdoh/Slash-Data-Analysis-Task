{
 "cells": [
  {
   "cell_type": "code",
   "execution_count": 1,
   "id": "3599f0bc",
   "metadata": {
    "_cell_guid": "b1076dfc-b9ad-4769-8c92-a6c4dae69d19",
    "_uuid": "8f2839f25d086af736a60e9eeb907d3b93b6e0e5",
    "execution": {
     "iopub.execute_input": "2024-06-21T01:40:08.226039Z",
     "iopub.status.busy": "2024-06-21T01:40:08.225628Z",
     "iopub.status.idle": "2024-06-21T01:40:10.465028Z",
     "shell.execute_reply": "2024-06-21T01:40:10.463529Z"
    },
    "papermill": {
     "duration": 2.249205,
     "end_time": "2024-06-21T01:40:10.467813",
     "exception": false,
     "start_time": "2024-06-21T01:40:08.218608",
     "status": "completed"
    },
    "tags": []
   },
   "outputs": [],
   "source": [
    "import pandas as pd\n",
    "from sklearn.model_selection import train_test_split\n",
    "from sklearn.preprocessing import OneHotEncoder\n",
    "from sklearn.compose import ColumnTransformer\n",
    "from sklearn.pipeline import Pipeline\n",
    "from sklearn.linear_model import LogisticRegression\n",
    "from sklearn.metrics import accuracy_score"
   ]
  },
  {
   "cell_type": "code",
   "execution_count": 2,
   "id": "9f895e7d",
   "metadata": {
    "execution": {
     "iopub.execute_input": "2024-06-21T01:40:10.479329Z",
     "iopub.status.busy": "2024-06-21T01:40:10.478745Z",
     "iopub.status.idle": "2024-06-21T01:40:12.433811Z",
     "shell.execute_reply": "2024-06-21T01:40:12.432629Z"
    },
    "papermill": {
     "duration": 1.963312,
     "end_time": "2024-06-21T01:40:12.436140",
     "exception": false,
     "start_time": "2024-06-21T01:40:10.472828",
     "status": "completed"
    },
    "tags": []
   },
   "outputs": [
    {
     "data": {
      "text/html": [
       "<div>\n",
       "<style scoped>\n",
       "    .dataframe tbody tr th:only-of-type {\n",
       "        vertical-align: middle;\n",
       "    }\n",
       "\n",
       "    .dataframe tbody tr th {\n",
       "        vertical-align: top;\n",
       "    }\n",
       "\n",
       "    .dataframe thead th {\n",
       "        text-align: right;\n",
       "    }\n",
       "</style>\n",
       "<table border=\"1\" class=\"dataframe\">\n",
       "  <thead>\n",
       "    <tr style=\"text-align: right;\">\n",
       "      <th></th>\n",
       "      <th>index</th>\n",
       "      <th>Order ID</th>\n",
       "      <th>Date</th>\n",
       "      <th>Status</th>\n",
       "      <th>Fulfilment</th>\n",
       "      <th>Sales Channel</th>\n",
       "      <th>ship-service-level</th>\n",
       "      <th>Style</th>\n",
       "      <th>SKU</th>\n",
       "      <th>Category</th>\n",
       "      <th>...</th>\n",
       "      <th>Qty</th>\n",
       "      <th>currency</th>\n",
       "      <th>Amount</th>\n",
       "      <th>ship-city</th>\n",
       "      <th>ship-state</th>\n",
       "      <th>ship-postal-code</th>\n",
       "      <th>ship-country</th>\n",
       "      <th>promotion-ids</th>\n",
       "      <th>B2B</th>\n",
       "      <th>fulfilled-by</th>\n",
       "    </tr>\n",
       "  </thead>\n",
       "  <tbody>\n",
       "    <tr>\n",
       "      <th>0</th>\n",
       "      <td>0.0</td>\n",
       "      <td>405-8078784-5731545</td>\n",
       "      <td>2022-04-30</td>\n",
       "      <td>Cancelled</td>\n",
       "      <td>Merchant</td>\n",
       "      <td>Amazon.in</td>\n",
       "      <td>Standard</td>\n",
       "      <td>SET389</td>\n",
       "      <td>SET389-KR-NP-S</td>\n",
       "      <td>Set</td>\n",
       "      <td>...</td>\n",
       "      <td>1.0</td>\n",
       "      <td>INR</td>\n",
       "      <td>647.62</td>\n",
       "      <td>MUMBAI</td>\n",
       "      <td>MAHARASHTRA</td>\n",
       "      <td>400081.0</td>\n",
       "      <td>IN</td>\n",
       "      <td>NaN</td>\n",
       "      <td>False</td>\n",
       "      <td>Easy Ship</td>\n",
       "    </tr>\n",
       "    <tr>\n",
       "      <th>1</th>\n",
       "      <td>1.0</td>\n",
       "      <td>171-9198151-1101146</td>\n",
       "      <td>2022-04-30</td>\n",
       "      <td>Shipped - Delivered to Buyer</td>\n",
       "      <td>Merchant</td>\n",
       "      <td>Amazon.in</td>\n",
       "      <td>Standard</td>\n",
       "      <td>JNE3781</td>\n",
       "      <td>JNE3781-KR-XXXL</td>\n",
       "      <td>kurta</td>\n",
       "      <td>...</td>\n",
       "      <td>1.0</td>\n",
       "      <td>INR</td>\n",
       "      <td>406.00</td>\n",
       "      <td>BENGALURU</td>\n",
       "      <td>KARNATAKA</td>\n",
       "      <td>560085.0</td>\n",
       "      <td>IN</td>\n",
       "      <td>Amazon PLCC Free-Financing Universal Merchant ...</td>\n",
       "      <td>False</td>\n",
       "      <td>Easy Ship</td>\n",
       "    </tr>\n",
       "    <tr>\n",
       "      <th>2</th>\n",
       "      <td>2.0</td>\n",
       "      <td>404-0687676-7273146</td>\n",
       "      <td>2022-04-30</td>\n",
       "      <td>Shipped</td>\n",
       "      <td>Amazon</td>\n",
       "      <td>Amazon.in</td>\n",
       "      <td>Expedited</td>\n",
       "      <td>JNE3371</td>\n",
       "      <td>JNE3371-KR-XL</td>\n",
       "      <td>kurta</td>\n",
       "      <td>...</td>\n",
       "      <td>1.0</td>\n",
       "      <td>INR</td>\n",
       "      <td>329.00</td>\n",
       "      <td>NAVI MUMBAI</td>\n",
       "      <td>MAHARASHTRA</td>\n",
       "      <td>410210.0</td>\n",
       "      <td>IN</td>\n",
       "      <td>IN Core Free Shipping 2015/04/08 23-48-5-108</td>\n",
       "      <td>True</td>\n",
       "      <td>Unknown</td>\n",
       "    </tr>\n",
       "    <tr>\n",
       "      <th>3</th>\n",
       "      <td>3.0</td>\n",
       "      <td>403-9615377-8133951</td>\n",
       "      <td>2022-04-30</td>\n",
       "      <td>Cancelled</td>\n",
       "      <td>Merchant</td>\n",
       "      <td>Amazon.in</td>\n",
       "      <td>Standard</td>\n",
       "      <td>J0341</td>\n",
       "      <td>J0341-DR-L</td>\n",
       "      <td>Western Dress</td>\n",
       "      <td>...</td>\n",
       "      <td>1.0</td>\n",
       "      <td>INR</td>\n",
       "      <td>753.33</td>\n",
       "      <td>PUDUCHERRY</td>\n",
       "      <td>PUDUCHERRY</td>\n",
       "      <td>605008.0</td>\n",
       "      <td>IN</td>\n",
       "      <td>NaN</td>\n",
       "      <td>False</td>\n",
       "      <td>Easy Ship</td>\n",
       "    </tr>\n",
       "    <tr>\n",
       "      <th>4</th>\n",
       "      <td>4.0</td>\n",
       "      <td>407-1069790-7240320</td>\n",
       "      <td>2022-04-30</td>\n",
       "      <td>Shipped</td>\n",
       "      <td>Amazon</td>\n",
       "      <td>Amazon.in</td>\n",
       "      <td>Expedited</td>\n",
       "      <td>JNE3671</td>\n",
       "      <td>JNE3671-TU-XXXL</td>\n",
       "      <td>Top</td>\n",
       "      <td>...</td>\n",
       "      <td>1.0</td>\n",
       "      <td>INR</td>\n",
       "      <td>574.00</td>\n",
       "      <td>CHENNAI</td>\n",
       "      <td>TAMIL NADU</td>\n",
       "      <td>600073.0</td>\n",
       "      <td>IN</td>\n",
       "      <td>NaN</td>\n",
       "      <td>False</td>\n",
       "      <td>Unknown</td>\n",
       "    </tr>\n",
       "  </tbody>\n",
       "</table>\n",
       "<p>5 rows × 23 columns</p>\n",
       "</div>"
      ],
      "text/plain": [
       "   index             Order ID        Date                        Status  \\\n",
       "0    0.0  405-8078784-5731545  2022-04-30                     Cancelled   \n",
       "1    1.0  171-9198151-1101146  2022-04-30  Shipped - Delivered to Buyer   \n",
       "2    2.0  404-0687676-7273146  2022-04-30                       Shipped   \n",
       "3    3.0  403-9615377-8133951  2022-04-30                     Cancelled   \n",
       "4    4.0  407-1069790-7240320  2022-04-30                       Shipped   \n",
       "\n",
       "  Fulfilment Sales Channel ship-service-level    Style              SKU  \\\n",
       "0   Merchant     Amazon.in           Standard   SET389   SET389-KR-NP-S   \n",
       "1   Merchant     Amazon.in           Standard  JNE3781  JNE3781-KR-XXXL   \n",
       "2     Amazon     Amazon.in          Expedited  JNE3371    JNE3371-KR-XL   \n",
       "3   Merchant     Amazon.in           Standard    J0341       J0341-DR-L   \n",
       "4     Amazon     Amazon.in          Expedited  JNE3671  JNE3671-TU-XXXL   \n",
       "\n",
       "        Category  ...  Qty currency  Amount    ship-city   ship-state  \\\n",
       "0            Set  ...  1.0      INR  647.62       MUMBAI  MAHARASHTRA   \n",
       "1          kurta  ...  1.0      INR  406.00    BENGALURU    KARNATAKA   \n",
       "2          kurta  ...  1.0      INR  329.00  NAVI MUMBAI  MAHARASHTRA   \n",
       "3  Western Dress  ...  1.0      INR  753.33   PUDUCHERRY   PUDUCHERRY   \n",
       "4            Top  ...  1.0      INR  574.00      CHENNAI   TAMIL NADU   \n",
       "\n",
       "   ship-postal-code ship-country  \\\n",
       "0          400081.0           IN   \n",
       "1          560085.0           IN   \n",
       "2          410210.0           IN   \n",
       "3          605008.0           IN   \n",
       "4          600073.0           IN   \n",
       "\n",
       "                                       promotion-ids    B2B fulfilled-by  \n",
       "0                                                NaN  False    Easy Ship  \n",
       "1  Amazon PLCC Free-Financing Universal Merchant ...  False    Easy Ship  \n",
       "2       IN Core Free Shipping 2015/04/08 23-48-5-108   True      Unknown  \n",
       "3                                                NaN  False    Easy Ship  \n",
       "4                                                NaN  False      Unknown  \n",
       "\n",
       "[5 rows x 23 columns]"
      ]
     },
     "execution_count": 2,
     "metadata": {},
     "output_type": "execute_result"
    }
   ],
   "source": [
    "# Load your dataset (replace with your actual dataset loading)\n",
    "df = pd.read_csv('/kaggle/input/amazon-processed-data/Amazon_Processed_data.csv', encoding='ISO-8859-1' , low_memory=False)\n",
    "df.head()"
   ]
  },
  {
   "cell_type": "code",
   "execution_count": 3,
   "id": "10e92a33",
   "metadata": {
    "execution": {
     "iopub.execute_input": "2024-06-21T01:40:12.448403Z",
     "iopub.status.busy": "2024-06-21T01:40:12.447727Z",
     "iopub.status.idle": "2024-06-21T01:40:13.061506Z",
     "shell.execute_reply": "2024-06-21T01:40:13.060485Z"
    },
    "papermill": {
     "duration": 0.622873,
     "end_time": "2024-06-21T01:40:13.064136",
     "exception": false,
     "start_time": "2024-06-21T01:40:12.441263",
     "status": "completed"
    },
    "tags": []
   },
   "outputs": [],
   "source": [
    "# Corrected list of categorical columns based on the actual DataFrame columns\n",
    "categorical_cols = [\n",
    "    'Order ID', 'Status', 'Fulfilment','Sales Channel', \n",
    "    'ship-service-level', 'Style', 'SKU', 'Category', \n",
    "    'Size', 'ASIN', 'Courier Status', 'currency', \n",
    "    'ship-city', 'ship-state', 'ship-country', \n",
    "    'promotion-ids', 'B2B', 'fulfilled-by'\n",
    "]\n",
    "\n",
    "# Make sure the column names match exactly with those in your DataFrame\n",
    "categorical_cols = [col for col in categorical_cols if col in df.columns]\n",
    "\n",
    "# Convert categorical columns to 'category' type\n",
    "for col in categorical_cols:\n",
    "    df[col] = df[col].astype('category')"
   ]
  },
  {
   "cell_type": "code",
   "execution_count": 4,
   "id": "70f95926",
   "metadata": {
    "execution": {
     "iopub.execute_input": "2024-06-21T01:40:13.076399Z",
     "iopub.status.busy": "2024-06-21T01:40:13.076027Z",
     "iopub.status.idle": "2024-06-21T01:40:13.111672Z",
     "shell.execute_reply": "2024-06-21T01:40:13.110687Z"
    },
    "papermill": {
     "duration": 0.044972,
     "end_time": "2024-06-21T01:40:13.114357",
     "exception": false,
     "start_time": "2024-06-21T01:40:13.069385",
     "status": "completed"
    },
    "tags": []
   },
   "outputs": [],
   "source": [
    "# Define categorical features excluding 'B2B'\n",
    "categorical_features = ['Fulfilment', 'Sales Channel', 'ship-service-level', 'Style', 'SKU', 'Category', 'Size', 'ASIN', \n",
    "                        'Courier Status', 'currency', 'ship-city', 'ship-state', 'ship-postal-code', 'ship-country', \n",
    "                        'promotion-ids', 'fulfilled-by']\n",
    "X = df.drop('Status', axis=1)  # Features\n",
    "y = df['Status']  # Target variable\n",
    "X_train, X_test, y_train, y_test = train_test_split(X, y, test_size=0.2, random_state=42)"
   ]
  },
  {
   "cell_type": "code",
   "execution_count": 5,
   "id": "fa64c2e0",
   "metadata": {
    "execution": {
     "iopub.execute_input": "2024-06-21T01:40:13.127132Z",
     "iopub.status.busy": "2024-06-21T01:40:13.125956Z",
     "iopub.status.idle": "2024-06-21T01:40:13.280604Z",
     "shell.execute_reply": "2024-06-21T01:40:13.279535Z"
    },
    "papermill": {
     "duration": 0.163798,
     "end_time": "2024-06-21T01:40:13.283388",
     "exception": false,
     "start_time": "2024-06-21T01:40:13.119590",
     "status": "completed"
    },
    "tags": []
   },
   "outputs": [],
   "source": [
    "from sklearn.compose import ColumnTransformer\n",
    "from sklearn.preprocessing import StandardScaler, OneHotEncoder\n",
    "from sklearn.impute import SimpleImputer\n",
    "\n",
    "# Categorical pipeline\n",
    "categorical_transformer = Pipeline(steps=[\n",
    "    ('imputer', SimpleImputer(strategy='constant', fill_value='missing')),\n",
    "    ('onehot', OneHotEncoder(handle_unknown='ignore'))\n",
    "])\n",
    "\n",
    "# Numerical pipeline (assuming only 'Qty' and 'Amount' are numerical)\n",
    "numerical_features = ['Qty', 'Amount']\n",
    "numerical_transformer = Pipeline(steps=[\n",
    "    ('imputer', SimpleImputer(strategy='mean')),\n",
    "    ('scaler', StandardScaler())\n",
    "])\n",
    "\n",
    "# Combine categorical and numerical transformers\n",
    "preprocessor = ColumnTransformer(\n",
    "    transformers=[\n",
    "        ('num', numerical_transformer, numerical_features),\n",
    "        ('cat', categorical_transformer, categorical_features)\n",
    "    ])"
   ]
  },
  {
   "cell_type": "code",
   "execution_count": 6,
   "id": "247b8cfd",
   "metadata": {
    "execution": {
     "iopub.execute_input": "2024-06-21T01:40:13.296302Z",
     "iopub.status.busy": "2024-06-21T01:40:13.295909Z",
     "iopub.status.idle": "2024-06-21T01:42:37.781480Z",
     "shell.execute_reply": "2024-06-21T01:42:37.780139Z"
    },
    "papermill": {
     "duration": 144.495188,
     "end_time": "2024-06-21T01:42:37.784448",
     "exception": false,
     "start_time": "2024-06-21T01:40:13.289260",
     "status": "completed"
    },
    "tags": []
   },
   "outputs": [],
   "source": [
    "from sklearn.pipeline import Pipeline\n",
    "from sklearn.linear_model import LogisticRegression\n",
    "\n",
    "# Define logistic regression model with increased max_iter\n",
    "logreg = LogisticRegression(max_iter=10000)\n",
    "\n",
    "# Create pipeline with preprocessor and classifier\n",
    "pipeline = Pipeline([\n",
    "    ('preprocessor', preprocessor),\n",
    "    ('classifier', logreg)  # Use the logistic regression model with increased max_iter\n",
    "])\n",
    "\n",
    "# Fit pipeline\n",
    "pipeline.fit(X_train, y_train)\n",
    "\n",
    "# Predict\n",
    "y_pred = pipeline.predict(X_test)"
   ]
  },
  {
   "cell_type": "code",
   "execution_count": 7,
   "id": "af9b634c",
   "metadata": {
    "execution": {
     "iopub.execute_input": "2024-06-21T01:42:37.797043Z",
     "iopub.status.busy": "2024-06-21T01:42:37.796612Z",
     "iopub.status.idle": "2024-06-21T01:42:38.182864Z",
     "shell.execute_reply": "2024-06-21T01:42:38.181735Z"
    },
    "papermill": {
     "duration": 0.39553,
     "end_time": "2024-06-21T01:42:38.185540",
     "exception": false,
     "start_time": "2024-06-21T01:42:37.790010",
     "status": "completed"
    },
    "tags": []
   },
   "outputs": [],
   "source": [
    "y_pred = pipeline.predict(X_test)"
   ]
  },
  {
   "cell_type": "code",
   "execution_count": 8,
   "id": "08b45d38",
   "metadata": {
    "execution": {
     "iopub.execute_input": "2024-06-21T01:42:38.197596Z",
     "iopub.status.busy": "2024-06-21T01:42:38.197189Z",
     "iopub.status.idle": "2024-06-21T01:42:39.693686Z",
     "shell.execute_reply": "2024-06-21T01:42:39.692565Z"
    },
    "papermill": {
     "duration": 1.505686,
     "end_time": "2024-06-21T01:42:39.696432",
     "exception": false,
     "start_time": "2024-06-21T01:42:38.190746",
     "status": "completed"
    },
    "tags": []
   },
   "outputs": [
    {
     "name": "stdout",
     "output_type": "stream",
     "text": [
      "Classification Report:\n",
      "                               precision    recall  f1-score   support\n",
      "\n",
      "                    Cancelled       0.99      1.00      0.99      3631\n",
      "                      Pending       0.77      0.63      0.69       132\n",
      "Pending - Waiting for Pick Up       0.70      0.68      0.69        63\n",
      "                      Shipped       1.00      1.00      1.00     15541\n",
      "            Shipped - Damaged       0.00      0.00      0.00         1\n",
      " Shipped - Delivered to Buyer       0.91      0.99      0.95      5788\n",
      "   Shipped - Out for Delivery       0.00      0.00      0.00         4\n",
      "          Shipped - Picked Up       0.94      0.22      0.36       201\n",
      "  Shipped - Rejected by Buyer       0.00      0.00      0.00         2\n",
      " Shipped - Returned to Seller       0.21      0.03      0.05       401\n",
      "Shipped - Returning to Seller       0.00      0.00      0.00        30\n",
      "                     Shipping       0.00      0.00      0.00         1\n",
      "\n",
      "                     accuracy                           0.97     25795\n",
      "                    macro avg       0.46      0.38      0.39     25795\n",
      "                 weighted avg       0.96      0.97      0.96     25795\n",
      "\n"
     ]
    }
   ],
   "source": [
    "from sklearn.metrics import classification_report\n",
    "\n",
    "report = classification_report(y_test, y_pred, zero_division=0)  # Adjusted to handle zero division warning\n",
    "print('Classification Report:')\n",
    "print(report)"
   ]
  },
  {
   "cell_type": "code",
   "execution_count": 9,
   "id": "e5a7d7ce",
   "metadata": {
    "execution": {
     "iopub.execute_input": "2024-06-21T01:42:39.709102Z",
     "iopub.status.busy": "2024-06-21T01:42:39.708685Z",
     "iopub.status.idle": "2024-06-21T01:42:39.766370Z",
     "shell.execute_reply": "2024-06-21T01:42:39.764991Z"
    },
    "papermill": {
     "duration": 0.067089,
     "end_time": "2024-06-21T01:42:39.769087",
     "exception": false,
     "start_time": "2024-06-21T01:42:39.701998",
     "status": "completed"
    },
    "tags": []
   },
   "outputs": [
    {
     "name": "stdout",
     "output_type": "stream",
     "text": [
      "Accuracy: 0.9722\n"
     ]
    }
   ],
   "source": [
    "from sklearn.metrics import accuracy_score\n",
    "\n",
    "accuracy = accuracy_score(y_test, y_pred)\n",
    "print(f'Accuracy: {accuracy:.4f}')"
   ]
  },
  {
   "cell_type": "code",
   "execution_count": 10,
   "id": "16c712b8",
   "metadata": {
    "execution": {
     "iopub.execute_input": "2024-06-21T01:42:39.782374Z",
     "iopub.status.busy": "2024-06-21T01:42:39.781411Z",
     "iopub.status.idle": "2024-06-21T01:42:39.952023Z",
     "shell.execute_reply": "2024-06-21T01:42:39.950686Z"
    },
    "papermill": {
     "duration": 0.180008,
     "end_time": "2024-06-21T01:42:39.954621",
     "exception": false,
     "start_time": "2024-06-21T01:42:39.774613",
     "status": "completed"
    },
    "tags": []
   },
   "outputs": [
    {
     "name": "stdout",
     "output_type": "stream",
     "text": [
      "Confusion Matrix:\n",
      "[[ 3626     5     0     0     0     0     0     0     0     0     0     0]\n",
      " [   30    83    18     1     0     0     0     0     0     0     0     0]\n",
      " [    0    20    43     0     0     0     0     0     0     0     0     0]\n",
      " [   22     0     0 15519     0     0     0     0     0     0     0     0]\n",
      " [    0     0     0     0     0     1     0     0     0     0     0     0]\n",
      " [    0     0     0     0     0  5750     0     1     0    37     0     0]\n",
      " [    0     0     0     0     0     3     0     1     0     0     0     0]\n",
      " [    0     0     0     0     0   153     0    45     0     3     0     0]\n",
      " [    0     0     0     0     0     2     0     0     0     0     0     0]\n",
      " [    0     0     0     0     0   389     0     0     0    11     1     0]\n",
      " [    0     0     0     0     0    28     0     1     0     1     0     0]\n",
      " [    0     0     0     1     0     0     0     0     0     0     0     0]]\n"
     ]
    }
   ],
   "source": [
    "from sklearn.metrics import confusion_matrix\n",
    "\n",
    "cm = confusion_matrix(y_test, y_pred)\n",
    "print('Confusion Matrix:')\n",
    "print(cm)"
   ]
  },
  {
   "cell_type": "code",
   "execution_count": 11,
   "id": "0ff2f090",
   "metadata": {
    "execution": {
     "iopub.execute_input": "2024-06-21T01:42:39.967446Z",
     "iopub.status.busy": "2024-06-21T01:42:39.967027Z",
     "iopub.status.idle": "2024-06-21T01:54:59.568228Z",
     "shell.execute_reply": "2024-06-21T01:54:59.567052Z"
    },
    "papermill": {
     "duration": 739.616216,
     "end_time": "2024-06-21T01:54:59.576333",
     "exception": false,
     "start_time": "2024-06-21T01:42:39.960117",
     "status": "completed"
    },
    "tags": []
   },
   "outputs": [
    {
     "name": "stdout",
     "output_type": "stream",
     "text": [
      "Cross-validation scores: [0.97160302 0.97237837 0.97232991 0.97145765 0.9728145 ]\n",
      "Mean CV accuracy: 0.9721166892808684\n",
      "Test set accuracy: 0.9722\n"
     ]
    }
   ],
   "source": [
    "from sklearn.pipeline import Pipeline\n",
    "from sklearn.linear_model import LogisticRegression\n",
    "from sklearn.model_selection import cross_val_score, KFold\n",
    "from sklearn.metrics import accuracy_score\n",
    "\n",
    "# Define pipeline\n",
    "pipeline = Pipeline([\n",
    "    ('preprocessor', preprocessor),  # Assuming you have defined preprocessor\n",
    "    ('classifier', LogisticRegression(max_iter=10000))  # Adjusted max_iter as needed\n",
    "])\n",
    "\n",
    "# Define cross-validation strategy (e.g., KFold with 5 folds)\n",
    "kf = KFold(n_splits=5, shuffle=True, random_state=42)\n",
    "\n",
    "# Perform cross-validation\n",
    "cv_scores = cross_val_score(pipeline, X_train, y_train, cv=kf, scoring='accuracy')\n",
    "\n",
    "# Print cross-validation scores\n",
    "print(\"Cross-validation scores:\", cv_scores)\n",
    "print(\"Mean CV accuracy:\", cv_scores.mean())\n",
    "\n",
    "# Optionally, fit on full training data and predict on test data\n",
    "pipeline.fit(X_train, y_train)\n",
    "y_pred = pipeline.predict(X_test)\n",
    "\n",
    "# Evaluate on test set\n",
    "test_accuracy = accuracy_score(y_test, y_pred)\n",
    "print(f'Test set accuracy: {test_accuracy:.4f}')"
   ]
  }
 ],
 "metadata": {
  "kaggle": {
   "accelerator": "none",
   "dataSources": [
    {
     "datasetId": 5248414,
     "sourceId": 8741576,
     "sourceType": "datasetVersion"
    }
   ],
   "dockerImageVersionId": 30732,
   "isGpuEnabled": false,
   "isInternetEnabled": true,
   "language": "python",
   "sourceType": "notebook"
  },
  "kernelspec": {
   "display_name": "Python 3",
   "language": "python",
   "name": "python3"
  },
  "language_info": {
   "codemirror_mode": {
    "name": "ipython",
    "version": 3
   },
   "file_extension": ".py",
   "mimetype": "text/x-python",
   "name": "python",
   "nbconvert_exporter": "python",
   "pygments_lexer": "ipython3",
   "version": "3.10.13"
  },
  "papermill": {
   "default_parameters": {},
   "duration": 895.078055,
   "end_time": "2024-06-21T01:55:00.206181",
   "environment_variables": {},
   "exception": null,
   "input_path": "__notebook__.ipynb",
   "output_path": "__notebook__.ipynb",
   "parameters": {},
   "start_time": "2024-06-21T01:40:05.128126",
   "version": "2.5.0"
  }
 },
 "nbformat": 4,
 "nbformat_minor": 5
}
